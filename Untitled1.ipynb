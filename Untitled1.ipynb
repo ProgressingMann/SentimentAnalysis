{
 "cells": [
  {
   "cell_type": "markdown",
   "metadata": {},
   "source": [
    "1. Read and analyze the input text data and the corresponding response variables (ratings).\n",
    "\n",
    "2. Perform basic pre-processing to prepare the data for modeling.\n",
    "\n",
    "3. Learn and apply various ways of featurizing the reviews text.\n",
    "\n",
    "4. Build machine learning models to classify text as either exhibiting positive or negative sentiment (1 or 0)."
   ]
  },
  {
   "cell_type": "code",
   "execution_count": 10,
   "metadata": {},
   "outputs": [],
   "source": [
    "import numpy as np\n",
    "import pandas as pd\n",
    "import re"
   ]
  },
  {
   "cell_type": "code",
   "execution_count": 2,
   "metadata": {},
   "outputs": [],
   "source": [
    "class Sentiment:\n",
    "    Negative = \"Negative\"\n",
    "    Positive = \"Positive\"\n",
    "    Neutral = \"Neutral\"\n",
    "    \n",
    "    \n",
    "class Review:\n",
    "    \n",
    "    def __init__(self, text, rating):\n",
    "        self.text = text\n",
    "        self.rating = rating\n",
    "        self.sentiment = self.get_sentiment()\n",
    "        \n",
    "    def get_sentiment(self):\n",
    "        if self.rating > 3:\n",
    "            return Sentiment.Positive\n",
    "        if self.rating <= 2:\n",
    "            return Sentiment.Negative\n",
    "        else:\n",
    "            return Sentiment.Neutral"
   ]
  },
  {
   "cell_type": "code",
   "execution_count": 3,
   "metadata": {},
   "outputs": [],
   "source": [
    "import json\n",
    "\n",
    "file_name = 'D:/Git_Projects/SentimentAnalysis/Datasets/Books_small_10000.json'\n",
    "\n",
    "reviews = []\n",
    "\n",
    "with open(file_name) as f:\n",
    "    for line in f: \n",
    "        review = json.loads(line)\n",
    "        reviews.append(Review(review['reviewText'], review['overall']))\n",
    "        "
   ]
  },
  {
   "cell_type": "code",
   "execution_count": 4,
   "metadata": {},
   "outputs": [
    {
     "data": {
      "text/plain": [
       "10000"
      ]
     },
     "execution_count": 4,
     "metadata": {},
     "output_type": "execute_result"
    }
   ],
   "source": [
    "len(reviews)"
   ]
  },
  {
   "cell_type": "code",
   "execution_count": 5,
   "metadata": {
    "scrolled": true
   },
   "outputs": [
    {
     "name": "stdout",
     "output_type": "stream",
     "text": [
      "i bought both boxed sets, books 1-5.  really a great series!  start book 1 three weeks ago and just finished book 5.  sloane monroe is a great character and being able to follow her through both private life and her pi life gets a reader very involved!  although clues may be right in front of the reader, there are twists and turns that keep one guessing until the last page!  these are books you won't be disappointed with.\n",
      "Positive\n"
     ]
    }
   ],
   "source": [
    "print(reviews[0].text.lower())\n",
    "print(reviews[0].sentiment)\n"
   ]
  },
  {
   "cell_type": "code",
   "execution_count": 8,
   "metadata": {},
   "outputs": [],
   "source": [
    "df_reviews = pd.DataFrame({'Review': [reviews[i].text for i in range(len(reviews))],\n",
    "              'Rating': [reviews[i].rating for i in range(len(reviews))],\n",
    "                          'Sentiment': [reviews[i].sentiment for i in range(len(reviews))]})"
   ]
  },
  {
   "cell_type": "code",
   "execution_count": 11,
   "metadata": {},
   "outputs": [],
   "source": [
    "df_reviews['Review'] = df_reviews['Review'].apply(lambda x: x.lower())\n",
    "non_alphanumeric = re.compile('[\\W]+')\n",
    "df_reviews['Review'] = df_reviews['Review'].apply(lambda x: non_alphanumeric.sub(' ', x))"
   ]
  },
  {
   "cell_type": "code",
   "execution_count": 12,
   "metadata": {
    "collapsed": true
   },
   "outputs": [
    {
     "data": {
      "text/plain": [
       "5.0    5930\n",
       "4.0    2448\n",
       "3.0     978\n",
       "2.0     375\n",
       "1.0     269\n",
       "Name: Rating, dtype: int64"
      ]
     },
     "execution_count": 12,
     "metadata": {},
     "output_type": "execute_result"
    }
   ],
   "source": [
    "df_reviews['Rating'].value_counts()"
   ]
  },
  {
   "cell_type": "code",
   "execution_count": 14,
   "metadata": {},
   "outputs": [
    {
     "data": {
      "text/plain": [
       "Positive    8378\n",
       "Neutral      978\n",
       "Negative     644\n",
       "Name: Sentiment, dtype: int64"
      ]
     },
     "execution_count": 14,
     "metadata": {},
     "output_type": "execute_result"
    }
   ],
   "source": [
    "df_reviews['Sentiment'].value_counts()"
   ]
  },
  {
   "cell_type": "code",
   "execution_count": null,
   "metadata": {},
   "outputs": [],
   "source": []
  },
  {
   "cell_type": "markdown",
   "metadata": {},
   "source": [
    "# Pre-Processing\n",
    "\n",
    "1. Converting words to lower case.\n",
    "2. Removing special characters.\n",
    "3. Removing stopwards and high/low-frequency words.\n",
    "4. Stemming/lemmatization."
   ]
  },
  {
   "cell_type": "code",
   "execution_count": 15,
   "metadata": {},
   "outputs": [],
   "source": [
    "#import re\n",
    "#reexp1 = re.compile('[\\W]+')\n",
    "#reexp1.sub(' ', reviews[0].text)"
   ]
  },
  {
   "cell_type": "code",
   "execution_count": 16,
   "metadata": {},
   "outputs": [],
   "source": [
    "import re\n",
    "from nltk import word_tokenize\n",
    "from nltk.corpus import stopwords\n",
    "from nltk.stem import LancasterStemmer\n",
    "from nltk.corpus import wordnet\n",
    "\n",
    "def get_preprocessed_review(review):\n",
    "    \n",
    "    non_alphanumeric = re.compile('[\\W]+')\n",
    "    \n",
    "    lower = review.lower()\n",
    "    alphanumeric_review = non_alphanumeric.sub(' ', lower)\n",
    "\n",
    "    words_without_stopwords = []\n",
    "    words = word_tokenize(alphanumeric_review)\n",
    "    for word in words:\n",
    "        if word not in stopwords.words('english'):\n",
    "            words_without_stopwords.append(word)\n",
    "        else:\n",
    "            pass\n",
    "\n",
    "        \n",
    "    return words_without_stopwords"
   ]
  },
  {
   "cell_type": "code",
   "execution_count": 17,
   "metadata": {},
   "outputs": [],
   "source": [
    "df2_reviews = pd.DataFrame({'Review': [reviews[i].text for i in range(len(reviews))],\n",
    "              'Rating': [reviews[i].rating for i in range(len(reviews))],\n",
    "                          'Sentiment': [reviews[i].sentiment for i in range(len(reviews))]})"
   ]
  },
  {
   "cell_type": "code",
   "execution_count": 18,
   "metadata": {},
   "outputs": [
    {
     "data": {
      "text/plain": [
       "Positive    8378\n",
       "Neutral      978\n",
       "Negative     644\n",
       "Name: Sentiment, dtype: int64"
      ]
     },
     "execution_count": 18,
     "metadata": {},
     "output_type": "execute_result"
    }
   ],
   "source": [
    "df2_reviews['Sentiment'].value_counts()"
   ]
  },
  {
   "cell_type": "code",
   "execution_count": 19,
   "metadata": {},
   "outputs": [],
   "source": [
    "#pd.DataFrame([df2_reviews.loc[0, :], df2_reviews.loc[1, :]])"
   ]
  },
  {
   "cell_type": "code",
   "execution_count": 20,
   "metadata": {},
   "outputs": [],
   "source": [
    "def get_balanced_reviews(reviews):\n",
    "    \n",
    "    positive_counter = 0\n",
    "    negative_counter = 0\n",
    "    neutral_counter = 0\n",
    "    list_balanced_reviews = []\n",
    "\n",
    "    for i in range(len(df2_reviews['Sentiment'])):\n",
    "        if df2_reviews.loc[i, 'Sentiment'] == 'Positive' and positive_counter < 700:\n",
    "            list_balanced_reviews.append(df2_reviews.loc[i, :])\n",
    "            positive_counter += 1\n",
    "\n",
    "        elif df2_reviews.loc[i, 'Sentiment'] == 'Negative' and negative_counter < 700:\n",
    "            list_balanced_reviews.append(df2_reviews.loc[i, :])\n",
    "            negative_counter += 1\n",
    "\n",
    "        elif df2_reviews.loc[i, 'Sentiment'] == 'Neutral' and neutral_counter < 700:\n",
    "            list_balanced_reviews.append(df2_reviews.loc[i, :])\n",
    "            neutral_counter += 1\n",
    "\n",
    "        else:\n",
    "            pass\n",
    "\n",
    "    return pd.DataFrame(list_balanced_reviews)"
   ]
  },
  {
   "cell_type": "code",
   "execution_count": 21,
   "metadata": {},
   "outputs": [],
   "source": [
    "df_balanced_reviews = get_balanced_reviews(reviews)"
   ]
  },
  {
   "cell_type": "code",
   "execution_count": 22,
   "metadata": {},
   "outputs": [
    {
     "data": {
      "text/html": [
       "<div>\n",
       "<style scoped>\n",
       "    .dataframe tbody tr th:only-of-type {\n",
       "        vertical-align: middle;\n",
       "    }\n",
       "\n",
       "    .dataframe tbody tr th {\n",
       "        vertical-align: top;\n",
       "    }\n",
       "\n",
       "    .dataframe thead th {\n",
       "        text-align: right;\n",
       "    }\n",
       "</style>\n",
       "<table border=\"1\" class=\"dataframe\">\n",
       "  <thead>\n",
       "    <tr style=\"text-align: right;\">\n",
       "      <th></th>\n",
       "      <th>Review</th>\n",
       "      <th>Rating</th>\n",
       "      <th>Sentiment</th>\n",
       "    </tr>\n",
       "  </thead>\n",
       "  <tbody>\n",
       "    <tr>\n",
       "      <th>0</th>\n",
       "      <td>I bought both boxed sets, books 1-5.  Really a...</td>\n",
       "      <td>5.0</td>\n",
       "      <td>Positive</td>\n",
       "    </tr>\n",
       "    <tr>\n",
       "      <th>1</th>\n",
       "      <td>I enjoyed this short book. But it was way way ...</td>\n",
       "      <td>3.0</td>\n",
       "      <td>Neutral</td>\n",
       "    </tr>\n",
       "    <tr>\n",
       "      <th>2</th>\n",
       "      <td>I love Nicholas Sparks. I&amp;#8217;ve read everyt...</td>\n",
       "      <td>4.0</td>\n",
       "      <td>Positive</td>\n",
       "    </tr>\n",
       "    <tr>\n",
       "      <th>3</th>\n",
       "      <td>I really enjoyed this adventure and look forwa...</td>\n",
       "      <td>4.0</td>\n",
       "      <td>Positive</td>\n",
       "    </tr>\n",
       "    <tr>\n",
       "      <th>4</th>\n",
       "      <td>It was a decent read.. typical story line. Not...</td>\n",
       "      <td>3.0</td>\n",
       "      <td>Neutral</td>\n",
       "    </tr>\n",
       "  </tbody>\n",
       "</table>\n",
       "</div>"
      ],
      "text/plain": [
       "                                              Review  Rating Sentiment\n",
       "0  I bought both boxed sets, books 1-5.  Really a...     5.0  Positive\n",
       "1  I enjoyed this short book. But it was way way ...     3.0   Neutral\n",
       "2  I love Nicholas Sparks. I&#8217;ve read everyt...     4.0  Positive\n",
       "3  I really enjoyed this adventure and look forwa...     4.0  Positive\n",
       "4  It was a decent read.. typical story line. Not...     3.0   Neutral"
      ]
     },
     "execution_count": 22,
     "metadata": {},
     "output_type": "execute_result"
    }
   ],
   "source": [
    "df_balanced_reviews.head()"
   ]
  },
  {
   "cell_type": "code",
   "execution_count": 23,
   "metadata": {},
   "outputs": [],
   "source": [
    "df_balanced_reviews['Review_words'] = df_balanced_reviews['Review'].apply(get_preprocessed_review)"
   ]
  },
  {
   "cell_type": "code",
   "execution_count": 25,
   "metadata": {},
   "outputs": [
    {
     "data": {
      "text/html": [
       "<div>\n",
       "<style scoped>\n",
       "    .dataframe tbody tr th:only-of-type {\n",
       "        vertical-align: middle;\n",
       "    }\n",
       "\n",
       "    .dataframe tbody tr th {\n",
       "        vertical-align: top;\n",
       "    }\n",
       "\n",
       "    .dataframe thead th {\n",
       "        text-align: right;\n",
       "    }\n",
       "</style>\n",
       "<table border=\"1\" class=\"dataframe\">\n",
       "  <thead>\n",
       "    <tr style=\"text-align: right;\">\n",
       "      <th></th>\n",
       "      <th>Review</th>\n",
       "      <th>Rating</th>\n",
       "      <th>Sentiment</th>\n",
       "      <th>Review_words</th>\n",
       "    </tr>\n",
       "  </thead>\n",
       "  <tbody>\n",
       "    <tr>\n",
       "      <th>0</th>\n",
       "      <td>I bought both boxed sets, books 1-5.  Really a...</td>\n",
       "      <td>5.0</td>\n",
       "      <td>Positive</td>\n",
       "      <td>[bought, boxed, sets, books, 1, 5, really, gre...</td>\n",
       "    </tr>\n",
       "    <tr>\n",
       "      <th>1</th>\n",
       "      <td>I enjoyed this short book. But it was way way ...</td>\n",
       "      <td>3.0</td>\n",
       "      <td>Neutral</td>\n",
       "      <td>[enjoyed, short, book, way, way, short, see, e...</td>\n",
       "    </tr>\n",
       "    <tr>\n",
       "      <th>2</th>\n",
       "      <td>I love Nicholas Sparks. I&amp;#8217;ve read everyt...</td>\n",
       "      <td>4.0</td>\n",
       "      <td>Positive</td>\n",
       "      <td>[love, nicholas, sparks, 8217, read, everythin...</td>\n",
       "    </tr>\n",
       "    <tr>\n",
       "      <th>3</th>\n",
       "      <td>I really enjoyed this adventure and look forwa...</td>\n",
       "      <td>4.0</td>\n",
       "      <td>Positive</td>\n",
       "      <td>[really, enjoyed, adventure, look, forward, re...</td>\n",
       "    </tr>\n",
       "    <tr>\n",
       "      <th>4</th>\n",
       "      <td>It was a decent read.. typical story line. Not...</td>\n",
       "      <td>3.0</td>\n",
       "      <td>Neutral</td>\n",
       "      <td>[decent, read, typical, story, line, nothing, ...</td>\n",
       "    </tr>\n",
       "  </tbody>\n",
       "</table>\n",
       "</div>"
      ],
      "text/plain": [
       "                                              Review  Rating Sentiment  \\\n",
       "0  I bought both boxed sets, books 1-5.  Really a...     5.0  Positive   \n",
       "1  I enjoyed this short book. But it was way way ...     3.0   Neutral   \n",
       "2  I love Nicholas Sparks. I&#8217;ve read everyt...     4.0  Positive   \n",
       "3  I really enjoyed this adventure and look forwa...     4.0  Positive   \n",
       "4  It was a decent read.. typical story line. Not...     3.0   Neutral   \n",
       "\n",
       "                                        Review_words  \n",
       "0  [bought, boxed, sets, books, 1, 5, really, gre...  \n",
       "1  [enjoyed, short, book, way, way, short, see, e...  \n",
       "2  [love, nicholas, sparks, 8217, read, everythin...  \n",
       "3  [really, enjoyed, adventure, look, forward, re...  \n",
       "4  [decent, read, typical, story, line, nothing, ...  "
      ]
     },
     "execution_count": 25,
     "metadata": {},
     "output_type": "execute_result"
    }
   ],
   "source": [
    "df_balanced_reviews.head()"
   ]
  },
  {
   "cell_type": "code",
   "execution_count": 143,
   "metadata": {},
   "outputs": [
    {
     "name": "stdout",
     "output_type": "stream",
     "text": [
      "Total words without using Stemmatization:-  14516\n",
      "Total words using Stemmetization:-  8684\n"
     ]
    }
   ],
   "source": [
    "wordlistt = []\n",
    "for review_words in df_balanced_reviews['Review_words']:\n",
    "    #wordlistt = wordlistt.append(for i in range)\n",
    "    for wrd in review_words:\n",
    "        wordlistt.append(wrd)\n",
    "        \n",
    "print('Total words without using Stemmatization:- ',len(set(wordlistt)))\n",
    "\n",
    "\n",
    "stemmed_words = []\n",
    "\n",
    "for wrd in wordlistt:\n",
    "    stemmed_words.append(lancaster.stem(wrd))\n",
    "\n",
    "print('Total words using Stemmetization:- ', len(set(stemmed_words)))"
   ]
  },
  {
   "cell_type": "code",
   "execution_count": 135,
   "metadata": {},
   "outputs": [
    {
     "ename": "NameError",
     "evalue": "name 'lancaster' is not defined",
     "output_type": "error",
     "traceback": [
      "\u001b[1;31m---------------------------------------------------------------------------\u001b[0m",
      "\u001b[1;31mNameError\u001b[0m                                 Traceback (most recent call last)",
      "\u001b[1;32m<ipython-input-135-85e3894a413c>\u001b[0m in \u001b[0;36m<module>\u001b[1;34m\u001b[0m\n\u001b[1;32m----> 1\u001b[1;33m \u001b[0mlancaster\u001b[0m\u001b[1;33m\u001b[0m\u001b[1;33m\u001b[0m\u001b[0m\n\u001b[0m",
      "\u001b[1;31mNameError\u001b[0m: name 'lancaster' is not defined"
     ]
    }
   ],
   "source": []
  },
  {
   "cell_type": "code",
   "execution_count": 28,
   "metadata": {},
   "outputs": [
    {
     "data": {
      "text/plain": [
       "'bought'"
      ]
     },
     "execution_count": 28,
     "metadata": {},
     "output_type": "execute_result"
    }
   ],
   "source": []
  },
  {
   "cell_type": "code",
   "execution_count": 29,
   "metadata": {},
   "outputs": [],
   "source": [
    "lancaster = LancasterStemmer()\n",
    "\n",
    "def do_stem(review):\n",
    "    stemmed_words = []\n",
    "    for word in review:\n",
    "        stemmed_words.append(lancaster.stem(word))\n",
    "    return stemmed_words"
   ]
  },
  {
   "cell_type": "code",
   "execution_count": 30,
   "metadata": {},
   "outputs": [],
   "source": [
    "df_balanced_reviews['Stemmed_Words'] = df_balanced_reviews['Review_words'].apply(do_stem)"
   ]
  },
  {
   "cell_type": "code",
   "execution_count": 31,
   "metadata": {},
   "outputs": [
    {
     "data": {
      "text/html": [
       "<div>\n",
       "<style scoped>\n",
       "    .dataframe tbody tr th:only-of-type {\n",
       "        vertical-align: middle;\n",
       "    }\n",
       "\n",
       "    .dataframe tbody tr th {\n",
       "        vertical-align: top;\n",
       "    }\n",
       "\n",
       "    .dataframe thead th {\n",
       "        text-align: right;\n",
       "    }\n",
       "</style>\n",
       "<table border=\"1\" class=\"dataframe\">\n",
       "  <thead>\n",
       "    <tr style=\"text-align: right;\">\n",
       "      <th></th>\n",
       "      <th>Review</th>\n",
       "      <th>Rating</th>\n",
       "      <th>Sentiment</th>\n",
       "      <th>Review_words</th>\n",
       "      <th>Stemmed_Words</th>\n",
       "    </tr>\n",
       "  </thead>\n",
       "  <tbody>\n",
       "    <tr>\n",
       "      <th>0</th>\n",
       "      <td>I bought both boxed sets, books 1-5.  Really a...</td>\n",
       "      <td>5.0</td>\n",
       "      <td>Positive</td>\n",
       "      <td>[bought, boxed, sets, books, 1, 5, really, gre...</td>\n",
       "      <td>[bought, box, set, book, 1, 5, real, gre, sery...</td>\n",
       "    </tr>\n",
       "    <tr>\n",
       "      <th>1</th>\n",
       "      <td>I enjoyed this short book. But it was way way ...</td>\n",
       "      <td>3.0</td>\n",
       "      <td>Neutral</td>\n",
       "      <td>[enjoyed, short, book, way, way, short, see, e...</td>\n",
       "      <td>[enjoy, short, book, way, way, short, see, eas...</td>\n",
       "    </tr>\n",
       "    <tr>\n",
       "      <th>2</th>\n",
       "      <td>I love Nicholas Sparks. I&amp;#8217;ve read everyt...</td>\n",
       "      <td>4.0</td>\n",
       "      <td>Positive</td>\n",
       "      <td>[love, nicholas, sparks, 8217, read, everythin...</td>\n",
       "      <td>[lov, nichola, spark, 8217, read, everyth, 821...</td>\n",
       "    </tr>\n",
       "    <tr>\n",
       "      <th>3</th>\n",
       "      <td>I really enjoyed this adventure and look forwa...</td>\n",
       "      <td>4.0</td>\n",
       "      <td>Positive</td>\n",
       "      <td>[really, enjoyed, adventure, look, forward, re...</td>\n",
       "      <td>[real, enjoy, adv, look, forward, read, robert...</td>\n",
       "    </tr>\n",
       "    <tr>\n",
       "      <th>4</th>\n",
       "      <td>It was a decent read.. typical story line. Not...</td>\n",
       "      <td>3.0</td>\n",
       "      <td>Neutral</td>\n",
       "      <td>[decent, read, typical, story, line, nothing, ...</td>\n",
       "      <td>[dec, read, typ, story, lin, noth, unsav, many...</td>\n",
       "    </tr>\n",
       "  </tbody>\n",
       "</table>\n",
       "</div>"
      ],
      "text/plain": [
       "                                              Review  Rating Sentiment  \\\n",
       "0  I bought both boxed sets, books 1-5.  Really a...     5.0  Positive   \n",
       "1  I enjoyed this short book. But it was way way ...     3.0   Neutral   \n",
       "2  I love Nicholas Sparks. I&#8217;ve read everyt...     4.0  Positive   \n",
       "3  I really enjoyed this adventure and look forwa...     4.0  Positive   \n",
       "4  It was a decent read.. typical story line. Not...     3.0   Neutral   \n",
       "\n",
       "                                        Review_words  \\\n",
       "0  [bought, boxed, sets, books, 1, 5, really, gre...   \n",
       "1  [enjoyed, short, book, way, way, short, see, e...   \n",
       "2  [love, nicholas, sparks, 8217, read, everythin...   \n",
       "3  [really, enjoyed, adventure, look, forward, re...   \n",
       "4  [decent, read, typical, story, line, nothing, ...   \n",
       "\n",
       "                                       Stemmed_Words  \n",
       "0  [bought, box, set, book, 1, 5, real, gre, sery...  \n",
       "1  [enjoy, short, book, way, way, short, see, eas...  \n",
       "2  [lov, nichola, spark, 8217, read, everyth, 821...  \n",
       "3  [real, enjoy, adv, look, forward, read, robert...  \n",
       "4  [dec, read, typ, story, lin, noth, unsav, many...  "
      ]
     },
     "execution_count": 31,
     "metadata": {},
     "output_type": "execute_result"
    }
   ],
   "source": [
    "df_balanced_reviews.head()"
   ]
  },
  {
   "cell_type": "code",
   "execution_count": null,
   "metadata": {},
   "outputs": [],
   "source": []
  },
  {
   "cell_type": "code",
   "execution_count": 39,
   "metadata": {},
   "outputs": [],
   "source": [
    "df_balanced_reviews['Preprocessed_Review'] = df_balanced_reviews['Stemmed_Words'].apply(lambda x: ' '.join(x))"
   ]
  },
  {
   "cell_type": "code",
   "execution_count": 42,
   "metadata": {},
   "outputs": [
    {
     "data": {
      "text/html": [
       "<div>\n",
       "<style scoped>\n",
       "    .dataframe tbody tr th:only-of-type {\n",
       "        vertical-align: middle;\n",
       "    }\n",
       "\n",
       "    .dataframe tbody tr th {\n",
       "        vertical-align: top;\n",
       "    }\n",
       "\n",
       "    .dataframe thead th {\n",
       "        text-align: right;\n",
       "    }\n",
       "</style>\n",
       "<table border=\"1\" class=\"dataframe\">\n",
       "  <thead>\n",
       "    <tr style=\"text-align: right;\">\n",
       "      <th></th>\n",
       "      <th>Review</th>\n",
       "      <th>Rating</th>\n",
       "      <th>Sentiment</th>\n",
       "      <th>Review_words</th>\n",
       "      <th>Stemmed_Words</th>\n",
       "      <th>Preprocessed_Review</th>\n",
       "    </tr>\n",
       "  </thead>\n",
       "  <tbody>\n",
       "    <tr>\n",
       "      <th>0</th>\n",
       "      <td>I bought both boxed sets, books 1-5.  Really a...</td>\n",
       "      <td>5.0</td>\n",
       "      <td>Positive</td>\n",
       "      <td>[bought, boxed, sets, books, 1, 5, really, gre...</td>\n",
       "      <td>[bought, box, set, book, 1, 5, real, gre, sery...</td>\n",
       "      <td>bought box set book 1 5 real gre sery start bo...</td>\n",
       "    </tr>\n",
       "    <tr>\n",
       "      <th>1</th>\n",
       "      <td>I enjoyed this short book. But it was way way ...</td>\n",
       "      <td>3.0</td>\n",
       "      <td>Neutral</td>\n",
       "      <td>[enjoyed, short, book, way, way, short, see, e...</td>\n",
       "      <td>[enjoy, short, book, way, way, short, see, eas...</td>\n",
       "      <td>enjoy short book way way short see easy would ...</td>\n",
       "    </tr>\n",
       "    <tr>\n",
       "      <th>2</th>\n",
       "      <td>I love Nicholas Sparks. I&amp;#8217;ve read everyt...</td>\n",
       "      <td>4.0</td>\n",
       "      <td>Positive</td>\n",
       "      <td>[love, nicholas, sparks, 8217, read, everythin...</td>\n",
       "      <td>[lov, nichola, spark, 8217, read, everyth, 821...</td>\n",
       "      <td>lov nichola spark 8217 read everyth 8217 writ ...</td>\n",
       "    </tr>\n",
       "    <tr>\n",
       "      <th>3</th>\n",
       "      <td>I really enjoyed this adventure and look forwa...</td>\n",
       "      <td>4.0</td>\n",
       "      <td>Positive</td>\n",
       "      <td>[really, enjoyed, adventure, look, forward, re...</td>\n",
       "      <td>[real, enjoy, adv, look, forward, read, robert...</td>\n",
       "      <td>real enjoy adv look forward read robert spir e...</td>\n",
       "    </tr>\n",
       "    <tr>\n",
       "      <th>4</th>\n",
       "      <td>It was a decent read.. typical story line. Not...</td>\n",
       "      <td>3.0</td>\n",
       "      <td>Neutral</td>\n",
       "      <td>[decent, read, typical, story, line, nothing, ...</td>\n",
       "      <td>[dec, read, typ, story, lin, noth, unsav, many...</td>\n",
       "      <td>dec read typ story lin noth unsav many slic li...</td>\n",
       "    </tr>\n",
       "  </tbody>\n",
       "</table>\n",
       "</div>"
      ],
      "text/plain": [
       "                                              Review  Rating Sentiment  \\\n",
       "0  I bought both boxed sets, books 1-5.  Really a...     5.0  Positive   \n",
       "1  I enjoyed this short book. But it was way way ...     3.0   Neutral   \n",
       "2  I love Nicholas Sparks. I&#8217;ve read everyt...     4.0  Positive   \n",
       "3  I really enjoyed this adventure and look forwa...     4.0  Positive   \n",
       "4  It was a decent read.. typical story line. Not...     3.0   Neutral   \n",
       "\n",
       "                                        Review_words  \\\n",
       "0  [bought, boxed, sets, books, 1, 5, really, gre...   \n",
       "1  [enjoyed, short, book, way, way, short, see, e...   \n",
       "2  [love, nicholas, sparks, 8217, read, everythin...   \n",
       "3  [really, enjoyed, adventure, look, forward, re...   \n",
       "4  [decent, read, typical, story, line, nothing, ...   \n",
       "\n",
       "                                       Stemmed_Words  \\\n",
       "0  [bought, box, set, book, 1, 5, real, gre, sery...   \n",
       "1  [enjoy, short, book, way, way, short, see, eas...   \n",
       "2  [lov, nichola, spark, 8217, read, everyth, 821...   \n",
       "3  [real, enjoy, adv, look, forward, read, robert...   \n",
       "4  [dec, read, typ, story, lin, noth, unsav, many...   \n",
       "\n",
       "                                 Preprocessed_Review  \n",
       "0  bought box set book 1 5 real gre sery start bo...  \n",
       "1  enjoy short book way way short see easy would ...  \n",
       "2  lov nichola spark 8217 read everyth 8217 writ ...  \n",
       "3  real enjoy adv look forward read robert spir e...  \n",
       "4  dec read typ story lin noth unsav many slic li...  "
      ]
     },
     "execution_count": 42,
     "metadata": {},
     "output_type": "execute_result"
    }
   ],
   "source": [
    "df_balanced_reviews.head()"
   ]
  },
  {
   "cell_type": "markdown",
   "metadata": {},
   "source": [
    "## Bag-of-Words"
   ]
  },
  {
   "cell_type": "code",
   "execution_count": 43,
   "metadata": {},
   "outputs": [],
   "source": [
    "from sklearn.feature_extraction.text import CountVectorizer\n",
    "\n",
    "countvector = CountVectorizer()\n",
    "\n",
    "X = countvector.fit_transform(df_balanced_reviews['Preprocessed_Review'])"
   ]
  },
  {
   "cell_type": "code",
   "execution_count": 45,
   "metadata": {},
   "outputs": [],
   "source": [
    "sparse_df = pd.DataFrame(X.toarray(), columns=countvector.get_feature_names())"
   ]
  },
  {
   "cell_type": "code",
   "execution_count": 46,
   "metadata": {},
   "outputs": [
    {
     "data": {
      "text/html": [
       "<div>\n",
       "<style scoped>\n",
       "    .dataframe tbody tr th:only-of-type {\n",
       "        vertical-align: middle;\n",
       "    }\n",
       "\n",
       "    .dataframe tbody tr th {\n",
       "        vertical-align: top;\n",
       "    }\n",
       "\n",
       "    .dataframe thead th {\n",
       "        text-align: right;\n",
       "    }\n",
       "</style>\n",
       "<table border=\"1\" class=\"dataframe\">\n",
       "  <thead>\n",
       "    <tr style=\"text-align: right;\">\n",
       "      <th></th>\n",
       "      <th>00</th>\n",
       "      <th>000</th>\n",
       "      <th>02</th>\n",
       "      <th>03</th>\n",
       "      <th>04</th>\n",
       "      <th>07</th>\n",
       "      <th>10</th>\n",
       "      <th>100</th>\n",
       "      <th>1000</th>\n",
       "      <th>10084</th>\n",
       "      <th>...</th>\n",
       "      <th>zip</th>\n",
       "      <th>zippo</th>\n",
       "      <th>zoh</th>\n",
       "      <th>zolt</th>\n",
       "      <th>zomby</th>\n",
       "      <th>zon</th>\n",
       "      <th>zoo</th>\n",
       "      <th>zoom</th>\n",
       "      <th>zor</th>\n",
       "      <th>zzzzzzzz</th>\n",
       "    </tr>\n",
       "  </thead>\n",
       "  <tbody>\n",
       "    <tr>\n",
       "      <th>0</th>\n",
       "      <td>0</td>\n",
       "      <td>0</td>\n",
       "      <td>0</td>\n",
       "      <td>0</td>\n",
       "      <td>0</td>\n",
       "      <td>0</td>\n",
       "      <td>0</td>\n",
       "      <td>0</td>\n",
       "      <td>0</td>\n",
       "      <td>0</td>\n",
       "      <td>...</td>\n",
       "      <td>0</td>\n",
       "      <td>0</td>\n",
       "      <td>0</td>\n",
       "      <td>0</td>\n",
       "      <td>0</td>\n",
       "      <td>0</td>\n",
       "      <td>0</td>\n",
       "      <td>0</td>\n",
       "      <td>0</td>\n",
       "      <td>0</td>\n",
       "    </tr>\n",
       "    <tr>\n",
       "      <th>1</th>\n",
       "      <td>0</td>\n",
       "      <td>0</td>\n",
       "      <td>0</td>\n",
       "      <td>0</td>\n",
       "      <td>0</td>\n",
       "      <td>0</td>\n",
       "      <td>0</td>\n",
       "      <td>0</td>\n",
       "      <td>0</td>\n",
       "      <td>0</td>\n",
       "      <td>...</td>\n",
       "      <td>0</td>\n",
       "      <td>0</td>\n",
       "      <td>0</td>\n",
       "      <td>0</td>\n",
       "      <td>0</td>\n",
       "      <td>0</td>\n",
       "      <td>0</td>\n",
       "      <td>0</td>\n",
       "      <td>0</td>\n",
       "      <td>0</td>\n",
       "    </tr>\n",
       "    <tr>\n",
       "      <th>2</th>\n",
       "      <td>0</td>\n",
       "      <td>0</td>\n",
       "      <td>0</td>\n",
       "      <td>0</td>\n",
       "      <td>0</td>\n",
       "      <td>0</td>\n",
       "      <td>0</td>\n",
       "      <td>0</td>\n",
       "      <td>0</td>\n",
       "      <td>0</td>\n",
       "      <td>...</td>\n",
       "      <td>0</td>\n",
       "      <td>0</td>\n",
       "      <td>0</td>\n",
       "      <td>0</td>\n",
       "      <td>0</td>\n",
       "      <td>0</td>\n",
       "      <td>0</td>\n",
       "      <td>0</td>\n",
       "      <td>0</td>\n",
       "      <td>0</td>\n",
       "    </tr>\n",
       "    <tr>\n",
       "      <th>3</th>\n",
       "      <td>0</td>\n",
       "      <td>0</td>\n",
       "      <td>0</td>\n",
       "      <td>0</td>\n",
       "      <td>0</td>\n",
       "      <td>0</td>\n",
       "      <td>0</td>\n",
       "      <td>0</td>\n",
       "      <td>0</td>\n",
       "      <td>0</td>\n",
       "      <td>...</td>\n",
       "      <td>0</td>\n",
       "      <td>0</td>\n",
       "      <td>0</td>\n",
       "      <td>0</td>\n",
       "      <td>0</td>\n",
       "      <td>0</td>\n",
       "      <td>0</td>\n",
       "      <td>0</td>\n",
       "      <td>0</td>\n",
       "      <td>0</td>\n",
       "    </tr>\n",
       "    <tr>\n",
       "      <th>4</th>\n",
       "      <td>0</td>\n",
       "      <td>0</td>\n",
       "      <td>0</td>\n",
       "      <td>0</td>\n",
       "      <td>0</td>\n",
       "      <td>0</td>\n",
       "      <td>0</td>\n",
       "      <td>0</td>\n",
       "      <td>0</td>\n",
       "      <td>0</td>\n",
       "      <td>...</td>\n",
       "      <td>0</td>\n",
       "      <td>0</td>\n",
       "      <td>0</td>\n",
       "      <td>0</td>\n",
       "      <td>0</td>\n",
       "      <td>0</td>\n",
       "      <td>0</td>\n",
       "      <td>0</td>\n",
       "      <td>0</td>\n",
       "      <td>0</td>\n",
       "    </tr>\n",
       "    <tr>\n",
       "      <th>...</th>\n",
       "      <td>...</td>\n",
       "      <td>...</td>\n",
       "      <td>...</td>\n",
       "      <td>...</td>\n",
       "      <td>...</td>\n",
       "      <td>...</td>\n",
       "      <td>...</td>\n",
       "      <td>...</td>\n",
       "      <td>...</td>\n",
       "      <td>...</td>\n",
       "      <td>...</td>\n",
       "      <td>...</td>\n",
       "      <td>...</td>\n",
       "      <td>...</td>\n",
       "      <td>...</td>\n",
       "      <td>...</td>\n",
       "      <td>...</td>\n",
       "      <td>...</td>\n",
       "      <td>...</td>\n",
       "      <td>...</td>\n",
       "      <td>...</td>\n",
       "    </tr>\n",
       "    <tr>\n",
       "      <th>2039</th>\n",
       "      <td>0</td>\n",
       "      <td>0</td>\n",
       "      <td>0</td>\n",
       "      <td>0</td>\n",
       "      <td>0</td>\n",
       "      <td>0</td>\n",
       "      <td>0</td>\n",
       "      <td>0</td>\n",
       "      <td>0</td>\n",
       "      <td>0</td>\n",
       "      <td>...</td>\n",
       "      <td>0</td>\n",
       "      <td>0</td>\n",
       "      <td>0</td>\n",
       "      <td>0</td>\n",
       "      <td>0</td>\n",
       "      <td>2</td>\n",
       "      <td>0</td>\n",
       "      <td>0</td>\n",
       "      <td>0</td>\n",
       "      <td>0</td>\n",
       "    </tr>\n",
       "    <tr>\n",
       "      <th>2040</th>\n",
       "      <td>0</td>\n",
       "      <td>0</td>\n",
       "      <td>0</td>\n",
       "      <td>0</td>\n",
       "      <td>0</td>\n",
       "      <td>0</td>\n",
       "      <td>0</td>\n",
       "      <td>0</td>\n",
       "      <td>0</td>\n",
       "      <td>0</td>\n",
       "      <td>...</td>\n",
       "      <td>0</td>\n",
       "      <td>0</td>\n",
       "      <td>0</td>\n",
       "      <td>0</td>\n",
       "      <td>0</td>\n",
       "      <td>0</td>\n",
       "      <td>0</td>\n",
       "      <td>0</td>\n",
       "      <td>0</td>\n",
       "      <td>0</td>\n",
       "    </tr>\n",
       "    <tr>\n",
       "      <th>2041</th>\n",
       "      <td>0</td>\n",
       "      <td>0</td>\n",
       "      <td>0</td>\n",
       "      <td>0</td>\n",
       "      <td>0</td>\n",
       "      <td>0</td>\n",
       "      <td>0</td>\n",
       "      <td>0</td>\n",
       "      <td>0</td>\n",
       "      <td>0</td>\n",
       "      <td>...</td>\n",
       "      <td>0</td>\n",
       "      <td>0</td>\n",
       "      <td>0</td>\n",
       "      <td>0</td>\n",
       "      <td>0</td>\n",
       "      <td>0</td>\n",
       "      <td>0</td>\n",
       "      <td>0</td>\n",
       "      <td>0</td>\n",
       "      <td>0</td>\n",
       "    </tr>\n",
       "    <tr>\n",
       "      <th>2042</th>\n",
       "      <td>0</td>\n",
       "      <td>0</td>\n",
       "      <td>0</td>\n",
       "      <td>0</td>\n",
       "      <td>0</td>\n",
       "      <td>0</td>\n",
       "      <td>0</td>\n",
       "      <td>0</td>\n",
       "      <td>0</td>\n",
       "      <td>0</td>\n",
       "      <td>...</td>\n",
       "      <td>0</td>\n",
       "      <td>0</td>\n",
       "      <td>0</td>\n",
       "      <td>0</td>\n",
       "      <td>0</td>\n",
       "      <td>0</td>\n",
       "      <td>0</td>\n",
       "      <td>0</td>\n",
       "      <td>0</td>\n",
       "      <td>0</td>\n",
       "    </tr>\n",
       "    <tr>\n",
       "      <th>2043</th>\n",
       "      <td>0</td>\n",
       "      <td>0</td>\n",
       "      <td>0</td>\n",
       "      <td>0</td>\n",
       "      <td>0</td>\n",
       "      <td>0</td>\n",
       "      <td>0</td>\n",
       "      <td>0</td>\n",
       "      <td>0</td>\n",
       "      <td>0</td>\n",
       "      <td>...</td>\n",
       "      <td>0</td>\n",
       "      <td>0</td>\n",
       "      <td>0</td>\n",
       "      <td>0</td>\n",
       "      <td>0</td>\n",
       "      <td>0</td>\n",
       "      <td>0</td>\n",
       "      <td>0</td>\n",
       "      <td>0</td>\n",
       "      <td>0</td>\n",
       "    </tr>\n",
       "  </tbody>\n",
       "</table>\n",
       "<p>2044 rows × 8655 columns</p>\n",
       "</div>"
      ],
      "text/plain": [
       "      00  000  02  03  04  07  10  100  1000  10084  ...  zip  zippo  zoh  \\\n",
       "0      0    0   0   0   0   0   0    0     0      0  ...    0      0    0   \n",
       "1      0    0   0   0   0   0   0    0     0      0  ...    0      0    0   \n",
       "2      0    0   0   0   0   0   0    0     0      0  ...    0      0    0   \n",
       "3      0    0   0   0   0   0   0    0     0      0  ...    0      0    0   \n",
       "4      0    0   0   0   0   0   0    0     0      0  ...    0      0    0   \n",
       "...   ..  ...  ..  ..  ..  ..  ..  ...   ...    ...  ...  ...    ...  ...   \n",
       "2039   0    0   0   0   0   0   0    0     0      0  ...    0      0    0   \n",
       "2040   0    0   0   0   0   0   0    0     0      0  ...    0      0    0   \n",
       "2041   0    0   0   0   0   0   0    0     0      0  ...    0      0    0   \n",
       "2042   0    0   0   0   0   0   0    0     0      0  ...    0      0    0   \n",
       "2043   0    0   0   0   0   0   0    0     0      0  ...    0      0    0   \n",
       "\n",
       "      zolt  zomby  zon  zoo  zoom  zor  zzzzzzzz  \n",
       "0        0      0    0    0     0    0         0  \n",
       "1        0      0    0    0     0    0         0  \n",
       "2        0      0    0    0     0    0         0  \n",
       "3        0      0    0    0     0    0         0  \n",
       "4        0      0    0    0     0    0         0  \n",
       "...    ...    ...  ...  ...   ...  ...       ...  \n",
       "2039     0      0    2    0     0    0         0  \n",
       "2040     0      0    0    0     0    0         0  \n",
       "2041     0      0    0    0     0    0         0  \n",
       "2042     0      0    0    0     0    0         0  \n",
       "2043     0      0    0    0     0    0         0  \n",
       "\n",
       "[2044 rows x 8655 columns]"
      ]
     },
     "execution_count": 46,
     "metadata": {},
     "output_type": "execute_result"
    }
   ],
   "source": [
    "sparse_df"
   ]
  },
  {
   "cell_type": "code",
   "execution_count": null,
   "metadata": {},
   "outputs": [],
   "source": [
    "from sklearn.model_selection import train_test_split\n",
    "\n",
    "X_train, X_test, Y_train, Y_test = train_test_split(sparse_df, )"
   ]
  }
 ],
 "metadata": {
  "kernelspec": {
   "display_name": "Python 3",
   "language": "python",
   "name": "python3"
  },
  "language_info": {
   "codemirror_mode": {
    "name": "ipython",
    "version": 3
   },
   "file_extension": ".py",
   "mimetype": "text/x-python",
   "name": "python",
   "nbconvert_exporter": "python",
   "pygments_lexer": "ipython3",
   "version": "3.7.6"
  }
 },
 "nbformat": 4,
 "nbformat_minor": 4
}
