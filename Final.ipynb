{
 "cells": [
  {
   "cell_type": "markdown",
   "metadata": {},
   "source": [
    "## Importing the necessary libraries"
   ]
  },
  {
   "cell_type": "code",
   "execution_count": 1,
   "metadata": {},
   "outputs": [],
   "source": [
    "import numpy as np\n",
    "import pandas as pd\n",
    "import re\n",
    "import json"
   ]
  },
  {
   "cell_type": "markdown",
   "metadata": {},
   "source": [
    "Creating Review class to organize the Reviews."
   ]
  },
  {
   "cell_type": "code",
   "execution_count": 2,
   "metadata": {},
   "outputs": [],
   "source": [
    "class Review:\n",
    "    \n",
    "    def __init__(self, text, rating):\n",
    "        self.text = text\n",
    "        self.rating = rating\n",
    "        self.sentiment = self.get_sentiment()\n",
    "        \n",
    "    def get_sentiment(self):\n",
    "        if self.rating > 3:\n",
    "            return 'Positive'\n",
    "        elif self.rating < 3:\n",
    "            return 'Negative'\n",
    "        else:\n",
    "            return 'Neutral'"
   ]
  },
  {
   "cell_type": "code",
   "execution_count": 3,
   "metadata": {},
   "outputs": [],
   "source": [
    "# Dataset path\n",
    "file_name = 'D:/Git_Projects/SentimentAnalysis/Datasets/Books_small_10000.json'"
   ]
  },
  {
   "cell_type": "code",
   "execution_count": 4,
   "metadata": {},
   "outputs": [],
   "source": [
    "#Fetching and storing reviews\n",
    "reviews = []\n",
    "\n",
    "with open(file_name) as f:\n",
    "    for line in f:\n",
    "        review = json.loads(line)\n",
    "        reviews.append(Review(review['reviewText'], review['overall']))"
   ]
  },
  {
   "cell_type": "code",
   "execution_count": 5,
   "metadata": {},
   "outputs": [],
   "source": [
    "# Converting data into a Dataframe to preprocess it in an optimal way.\n",
    "df_reviews = pd.DataFrame({'Review': [reviews[i].text for i in range(len(reviews))],\n",
    "                            'Ratings': [reviews[i].rating for i in range(len(reviews))],\n",
    "                            'Sentiment': [reviews[i].sentiment for i in range(len(reviews))]})"
   ]
  },
  {
   "cell_type": "markdown",
   "metadata": {},
   "source": [
    "### Balancing Dataset"
   ]
  },
  {
   "cell_type": "markdown",
   "metadata": {},
   "source": [
    "Balancing the number of reviews w.r.t sentiment."
   ]
  },
  {
   "cell_type": "code",
   "execution_count": 6,
   "metadata": {},
   "outputs": [],
   "source": [
    "import random\n",
    "def balance_reviews(reviews):\n",
    "    \n",
    "    balance_value = df_reviews['Sentiment'].value_counts()['Negative']\n",
    "    positive_counter = 0\n",
    "    negative_counter = 0\n",
    "    balanced_reviews = []\n",
    "    \n",
    "    for i in range(len(df_reviews)):\n",
    "        if (df_reviews['Sentiment'][i] == 'Positive') and (positive_counter < balance_value):\n",
    "            balanced_reviews.append(df_reviews.iloc[i, :])\n",
    "            positive_counter += 1\n",
    "            \n",
    "        elif (df_reviews['Sentiment'][i] == 'Negative') and (negative_counter < balance_value):\n",
    "            balanced_reviews.append(df_reviews.iloc[i, :])\n",
    "            negative_counter += 1\n",
    "        \n",
    "        else:\n",
    "            pass\n",
    "    \n",
    "    return pd.DataFrame(balanced_reviews)"
   ]
  },
  {
   "cell_type": "code",
   "execution_count": 7,
   "metadata": {},
   "outputs": [],
   "source": [
    "balanced_df = balance_reviews(df_reviews)"
   ]
  },
  {
   "cell_type": "code",
   "execution_count": 9,
   "metadata": {},
   "outputs": [
    {
     "data": {
      "text/html": [
       "<div>\n",
       "<style scoped>\n",
       "    .dataframe tbody tr th:only-of-type {\n",
       "        vertical-align: middle;\n",
       "    }\n",
       "\n",
       "    .dataframe tbody tr th {\n",
       "        vertical-align: top;\n",
       "    }\n",
       "\n",
       "    .dataframe thead th {\n",
       "        text-align: right;\n",
       "    }\n",
       "</style>\n",
       "<table border=\"1\" class=\"dataframe\">\n",
       "  <thead>\n",
       "    <tr style=\"text-align: right;\">\n",
       "      <th></th>\n",
       "      <th>Review</th>\n",
       "      <th>Ratings</th>\n",
       "      <th>Sentiment</th>\n",
       "    </tr>\n",
       "  </thead>\n",
       "  <tbody>\n",
       "    <tr>\n",
       "      <th>0</th>\n",
       "      <td>I bought both boxed sets, books 1-5.  Really a...</td>\n",
       "      <td>5.0</td>\n",
       "      <td>Positive</td>\n",
       "    </tr>\n",
       "    <tr>\n",
       "      <th>2</th>\n",
       "      <td>I love Nicholas Sparks. I&amp;#8217;ve read everyt...</td>\n",
       "      <td>4.0</td>\n",
       "      <td>Positive</td>\n",
       "    </tr>\n",
       "    <tr>\n",
       "      <th>3</th>\n",
       "      <td>I really enjoyed this adventure and look forwa...</td>\n",
       "      <td>4.0</td>\n",
       "      <td>Positive</td>\n",
       "    </tr>\n",
       "    <tr>\n",
       "      <th>5</th>\n",
       "      <td>I hoped for Mia to have some peace in this boo...</td>\n",
       "      <td>5.0</td>\n",
       "      <td>Positive</td>\n",
       "    </tr>\n",
       "    <tr>\n",
       "      <th>6</th>\n",
       "      <td>The book has the fevered intensity of Oliver S...</td>\n",
       "      <td>2.0</td>\n",
       "      <td>Negative</td>\n",
       "    </tr>\n",
       "  </tbody>\n",
       "</table>\n",
       "</div>"
      ],
      "text/plain": [
       "                                              Review  Ratings Sentiment\n",
       "0  I bought both boxed sets, books 1-5.  Really a...      5.0  Positive\n",
       "2  I love Nicholas Sparks. I&#8217;ve read everyt...      4.0  Positive\n",
       "3  I really enjoyed this adventure and look forwa...      4.0  Positive\n",
       "5  I hoped for Mia to have some peace in this boo...      5.0  Positive\n",
       "6  The book has the fevered intensity of Oliver S...      2.0  Negative"
      ]
     },
     "execution_count": 9,
     "metadata": {},
     "output_type": "execute_result"
    }
   ],
   "source": [
    "balanced_df.head()"
   ]
  },
  {
   "cell_type": "markdown",
   "metadata": {},
   "source": [
    "## Pre-Processing the Reviews\n",
    "### Subtasks:\n",
    "1) Converting alphabets into lowercase.\n",
    "2) Tokenizing the review text, i.e. converting the words present in the review into a list.\n",
    "3) Removing Stopwords from the review, where these stopwords do not add value to predicting the nature of a review, like I, me.\n",
    "4) Converting the words in past, present, and future, continuous and various tense to one single tense.\n",
    "\n",
    "Step No. 3 & 4 reduces the size of our metrics (where column_names of the metrics contains a single word, rows contains the review number and the data field contains the number of times a particular word is present inside a review. )"
   ]
  },
  {
   "cell_type": "code",
   "execution_count": 14,
   "metadata": {},
   "outputs": [],
   "source": [
    "from nltk import word_tokenize\n",
    "from nltk.corpus import stopwords\n",
    "from nltk.stem import LancasterStemmer\n",
    "def preprocessed_reviews(reviews):\n",
    "    '''\n",
    "    Input:\n",
    "    reviews: a list of reviews, where every review is in a textual form.\n",
    "    \n",
    "    Output:\n",
    "    review_list: Reviews after going through preprocessing steps.\n",
    "    '''\n",
    "    review_list = []\n",
    "    non_alphanumeric = re.compile('[\\W]+')\n",
    "    lancaster = LancasterStemmer()\n",
    "\n",
    "    for review in reviews:\n",
    "        lower = review.lower()\n",
    "        clean_review = non_alphanumeric.sub(' ', lower)\n",
    "        words = word_tokenize(clean_review)\n",
    "        stemmed_words = []\n",
    "        \n",
    "        for word in words:\n",
    "            if word not in stopwords.words('english'):\n",
    "                stemmed_words.append(lancaster.stem(word))\n",
    "            else:\n",
    "                pass\n",
    "        \n",
    "        review_list.append(' '.join(stemmed_words))\n",
    "        \n",
    "    return review_list \n",
    "        \n",
    "        "
   ]
  },
  {
   "cell_type": "code",
   "execution_count": null,
   "metadata": {},
   "outputs": [],
   "source": []
  },
  {
   "cell_type": "code",
   "execution_count": 13,
   "metadata": {},
   "outputs": [],
   "source": [
    "# Creating a column named Preprocessed_Reviews which contains the reviews preprocessed using the preprocessed_reviews function.\n",
    "balanced_df['Preprocessed_Reviews'] = preprocessed_reviews(balanced_df['Review'])"
   ]
  },
  {
   "cell_type": "code",
   "execution_count": 19,
   "metadata": {},
   "outputs": [
    {
     "data": {
      "text/html": [
       "<div>\n",
       "<style scoped>\n",
       "    .dataframe tbody tr th:only-of-type {\n",
       "        vertical-align: middle;\n",
       "    }\n",
       "\n",
       "    .dataframe tbody tr th {\n",
       "        vertical-align: top;\n",
       "    }\n",
       "\n",
       "    .dataframe thead th {\n",
       "        text-align: right;\n",
       "    }\n",
       "</style>\n",
       "<table border=\"1\" class=\"dataframe\">\n",
       "  <thead>\n",
       "    <tr style=\"text-align: right;\">\n",
       "      <th></th>\n",
       "      <th>Review</th>\n",
       "      <th>Ratings</th>\n",
       "      <th>Preprocessed_Reviews</th>\n",
       "      <th>Sentiment_Positive</th>\n",
       "    </tr>\n",
       "  </thead>\n",
       "  <tbody>\n",
       "    <tr>\n",
       "      <th>0</th>\n",
       "      <td>I bought both boxed sets, books 1-5.  Really a...</td>\n",
       "      <td>5.0</td>\n",
       "      <td>bought box set book 1 5 real gre sery start bo...</td>\n",
       "      <td>1</td>\n",
       "    </tr>\n",
       "    <tr>\n",
       "      <th>2</th>\n",
       "      <td>I love Nicholas Sparks. I&amp;#8217;ve read everyt...</td>\n",
       "      <td>4.0</td>\n",
       "      <td>lov nichola spark 8217 read everyth 8217 writ ...</td>\n",
       "      <td>1</td>\n",
       "    </tr>\n",
       "    <tr>\n",
       "      <th>3</th>\n",
       "      <td>I really enjoyed this adventure and look forwa...</td>\n",
       "      <td>4.0</td>\n",
       "      <td>real enjoy adv look forward read robert spir e...</td>\n",
       "      <td>1</td>\n",
       "    </tr>\n",
       "    <tr>\n",
       "      <th>5</th>\n",
       "      <td>I hoped for Mia to have some peace in this boo...</td>\n",
       "      <td>5.0</td>\n",
       "      <td>hop mia peac book story real raw brok world to...</td>\n",
       "      <td>1</td>\n",
       "    </tr>\n",
       "    <tr>\n",
       "      <th>6</th>\n",
       "      <td>The book has the fevered intensity of Oliver S...</td>\n",
       "      <td>2.0</td>\n",
       "      <td>book fev intens ol ston movy jfk auth track de...</td>\n",
       "      <td>0</td>\n",
       "    </tr>\n",
       "  </tbody>\n",
       "</table>\n",
       "</div>"
      ],
      "text/plain": [
       "                                              Review  Ratings  \\\n",
       "0  I bought both boxed sets, books 1-5.  Really a...      5.0   \n",
       "2  I love Nicholas Sparks. I&#8217;ve read everyt...      4.0   \n",
       "3  I really enjoyed this adventure and look forwa...      4.0   \n",
       "5  I hoped for Mia to have some peace in this boo...      5.0   \n",
       "6  The book has the fevered intensity of Oliver S...      2.0   \n",
       "\n",
       "                                Preprocessed_Reviews  Sentiment_Positive  \n",
       "0  bought box set book 1 5 real gre sery start bo...                   1  \n",
       "2  lov nichola spark 8217 read everyth 8217 writ ...                   1  \n",
       "3  real enjoy adv look forward read robert spir e...                   1  \n",
       "5  hop mia peac book story real raw brok world to...                   1  \n",
       "6  book fev intens ol ston movy jfk auth track de...                   0  "
      ]
     },
     "execution_count": 19,
     "metadata": {},
     "output_type": "execute_result"
    }
   ],
   "source": [
    "final_df = pd.get_dummies(balanced_df, columns=['Sentiment'], drop_first=True)\n",
    "final_df.head()"
   ]
  },
  {
   "cell_type": "markdown",
   "metadata": {},
   "source": [
    "### CountVectorize"
   ]
  },
  {
   "cell_type": "markdown",
   "metadata": {},
   "source": [
    "CountVector counts the number of words present in text. (Which word, in the text, is present and how many time)"
   ]
  },
  {
   "cell_type": "code",
   "execution_count": 21,
   "metadata": {},
   "outputs": [],
   "source": [
    "from sklearn.feature_extraction.text import CountVectorizer\n",
    "\n",
    "countvector = CountVectorizer()\n",
    "X = countvector.fit_transform(final_df['Preprocessed_Reviews'])"
   ]
  },
  {
   "cell_type": "code",
   "execution_count": 22,
   "metadata": {},
   "outputs": [],
   "source": [
    "sparse_df = pd.DataFrame(X.toarray(), columns=countvector.get_feature_names())"
   ]
  },
  {
   "cell_type": "markdown",
   "metadata": {},
   "source": [
    "## Machine Learning"
   ]
  },
  {
   "cell_type": "code",
   "execution_count": 23,
   "metadata": {},
   "outputs": [],
   "source": [
    "from sklearn.model_selection import train_test_split\n",
    "\n",
    "X_train, X_test, Y_train, Y_test = train_test_split(sparse_df, final_df['Sentiment_Positive'], test_size = 0.1, random_state=0)\n",
    "X_train = np.array(X_train)\n",
    "X_test = np.array(X_test)\n",
    "Y_train = np.array(Y_train).reshape(-1, 1)\n",
    "Y_test = np.array(Y_test).reshape(-1, 1)"
   ]
  },
  {
   "cell_type": "code",
   "execution_count": 24,
   "metadata": {},
   "outputs": [
    {
     "data": {
      "text/plain": [
       "(1159, 1)"
      ]
     },
     "execution_count": 24,
     "metadata": {},
     "output_type": "execute_result"
    }
   ],
   "source": [
    "Y_train.shape"
   ]
  },
  {
   "cell_type": "markdown",
   "metadata": {},
   "source": [
    "## LogisticRegression"
   ]
  },
  {
   "cell_type": "code",
   "execution_count": 25,
   "metadata": {},
   "outputs": [],
   "source": [
    "from sklearn.linear_model import LogisticRegression\n",
    "from sklearn.metrics import f1_score"
   ]
  },
  {
   "cell_type": "code",
   "execution_count": 26,
   "metadata": {},
   "outputs": [],
   "source": [
    "logreg = LogisticRegression(C=0.1)"
   ]
  },
  {
   "cell_type": "code",
   "execution_count": 27,
   "metadata": {},
   "outputs": [
    {
     "name": "stderr",
     "output_type": "stream",
     "text": [
      "C:\\Users\\Mann\\anaconda3\\envs\\py3tf2\\lib\\site-packages\\sklearn\\utils\\validation.py:760: DataConversionWarning: A column-vector y was passed when a 1d array was expected. Please change the shape of y to (n_samples, ), for example using ravel().\n",
      "  y = column_or_1d(y, warn=True)\n"
     ]
    },
    {
     "data": {
      "text/plain": [
       "LogisticRegression(C=0.1, class_weight=None, dual=False, fit_intercept=True,\n",
       "                   intercept_scaling=1, l1_ratio=None, max_iter=100,\n",
       "                   multi_class='auto', n_jobs=None, penalty='l2',\n",
       "                   random_state=None, solver='lbfgs', tol=0.0001, verbose=0,\n",
       "                   warm_start=False)"
      ]
     },
     "execution_count": 27,
     "metadata": {},
     "output_type": "execute_result"
    }
   ],
   "source": [
    "logreg.fit(X_train, Y_train)"
   ]
  },
  {
   "cell_type": "code",
   "execution_count": 28,
   "metadata": {},
   "outputs": [
    {
     "data": {
      "text/plain": [
       "0.8474576271186439"
      ]
     },
     "execution_count": 28,
     "metadata": {},
     "output_type": "execute_result"
    }
   ],
   "source": [
    "f1_score(logreg.predict(X_test), Y_test)"
   ]
  },
  {
   "cell_type": "code",
   "execution_count": null,
   "metadata": {},
   "outputs": [],
   "source": []
  },
  {
   "cell_type": "markdown",
   "metadata": {},
   "source": [
    "## Training the data inside a Deep Neural Network."
   ]
  },
  {
   "cell_type": "code",
   "execution_count": 29,
   "metadata": {},
   "outputs": [],
   "source": [
    "from tensorflow import keras"
   ]
  },
  {
   "cell_type": "code",
   "execution_count": 30,
   "metadata": {},
   "outputs": [],
   "source": [
    "model = keras.Sequential([\n",
    "    keras.layers.Dense(1024, activation='tanh'),\n",
    "    #keras.layers.Dense(128, activation='relu'),\n",
    "    keras.layers.Dense(2, activation='sigmoid')\n",
    "])"
   ]
  },
  {
   "cell_type": "code",
   "execution_count": 31,
   "metadata": {},
   "outputs": [],
   "source": [
    "model.compile(optimizer='adam', loss='sparse_categorical_crossentropy', metrics=['accuracy'])"
   ]
  },
  {
   "cell_type": "code",
   "execution_count": 32,
   "metadata": {
    "scrolled": true
   },
   "outputs": [
    {
     "name": "stdout",
     "output_type": "stream",
     "text": [
      "Train on 1159 samples, validate on 129 samples\n",
      "Epoch 1/5\n",
      "1159/1159 [==============================] - 4s 4ms/sample - loss: 0.5237 - accuracy: 0.7645 - val_loss: 0.4826 - val_accuracy: 0.8605\n",
      "Epoch 2/5\n",
      "1159/1159 [==============================] - 3s 3ms/sample - loss: 0.1563 - accuracy: 0.9379 - val_loss: 0.4107 - val_accuracy: 0.8527\n",
      "Epoch 3/5\n",
      "1159/1159 [==============================] - 3s 3ms/sample - loss: 0.0560 - accuracy: 0.9793 - val_loss: 0.5795 - val_accuracy: 0.8372\n",
      "Epoch 4/5\n",
      "1159/1159 [==============================] - 3s 3ms/sample - loss: 0.0219 - accuracy: 0.9948 - val_loss: 0.6053 - val_accuracy: 0.8605\n",
      "Epoch 5/5\n",
      "1159/1159 [==============================] - 3s 3ms/sample - loss: 0.0112 - accuracy: 0.9983 - val_loss: 0.6707 - val_accuracy: 0.8682\n"
     ]
    },
    {
     "data": {
      "text/plain": [
       "<tensorflow.python.keras.callbacks.History at 0x13911be9788>"
      ]
     },
     "execution_count": 32,
     "metadata": {},
     "output_type": "execute_result"
    }
   ],
   "source": [
    "model.fit(x=X_train, y=Y_train, batch_size=16, epochs=5, validation_data=(X_test, Y_test))"
   ]
  },
  {
   "cell_type": "code",
   "execution_count": null,
   "metadata": {},
   "outputs": [],
   "source": []
  },
  {
   "cell_type": "code",
   "execution_count": null,
   "metadata": {},
   "outputs": [],
   "source": []
  }
 ],
 "metadata": {
  "kernelspec": {
   "display_name": "Python [conda env:py3tf2]",
   "language": "python",
   "name": "conda-env-py3tf2-py"
  },
  "language_info": {
   "codemirror_mode": {
    "name": "ipython",
    "version": 3
   },
   "file_extension": ".py",
   "mimetype": "text/x-python",
   "name": "python",
   "nbconvert_exporter": "python",
   "pygments_lexer": "ipython3",
   "version": "3.7.7"
  }
 },
 "nbformat": 4,
 "nbformat_minor": 4
}
