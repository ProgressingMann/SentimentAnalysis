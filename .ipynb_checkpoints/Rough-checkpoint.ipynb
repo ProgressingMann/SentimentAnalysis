{
 "cells": [
  {
   "cell_type": "code",
   "execution_count": 1,
   "metadata": {},
   "outputs": [],
   "source": [
    "class Sentiment:\n",
    "    Negative = \"Negative\"\n",
    "    Positive = \"Positive\"\n",
    "    Neutral = \"Neutral\"\n",
    "    \n",
    "    \n",
    "class Review:\n",
    "    \n",
    "    def __init__(self, text, rating):\n",
    "        self.text = text\n",
    "        self.rating = rating\n",
    "        self.sentiment = self.get_sentiment()\n",
    "        \n",
    "    def get_sentiment(self):\n",
    "        if self.rating > 2:\n",
    "            return Sentiment.Positive\n",
    "        if self.rating <= 2:\n",
    "            return Sentiment.Negative\n",
    "        else:\n",
    "            return Sentiment.Neutral"
   ]
  },
  {
   "cell_type": "code",
   "execution_count": 2,
   "metadata": {},
   "outputs": [],
   "source": [
    "import json\n",
    "\n",
    "file_name = 'D:/Git_Projects/SentimentAnalysis/Datasets/Books_small_10000.json'\n",
    "\n",
    "reviews = []\n",
    "\n",
    "with open(file_name) as f:\n",
    "    for line in f: \n",
    "        review = json.loads(line)\n",
    "        reviews.append(Review(review['reviewText'], review['overall']))\n",
    "        "
   ]
  },
  {
   "cell_type": "code",
   "execution_count": 3,
   "metadata": {},
   "outputs": [
    {
     "data": {
      "text/plain": [
       "10000"
      ]
     },
     "execution_count": 3,
     "metadata": {},
     "output_type": "execute_result"
    }
   ],
   "source": [
    "len(reviews)"
   ]
  },
  {
   "cell_type": "code",
   "execution_count": 9,
   "metadata": {},
   "outputs": [
    {
     "name": "stdout",
     "output_type": "stream",
     "text": [
      "['i', 'bought', 'both', 'boxed', 'sets', 'books', '1', '5', 'really', 'a', 'great', 'series', 'start', 'book', '1', 'three', 'weeks', 'ago', 'and', 'just', 'finished', 'book', '5', 'sloane', 'monroe', 'is', 'a', 'great', 'character', 'and', 'being', 'able', 'to', 'follow', 'her', 'through', 'both', 'private', 'life', 'and', 'her', 'pi', 'life', 'gets', 'a', 'reader', 'very', 'involved', 'although', 'clues', 'may', 'be', 'right', 'in', 'front', 'of', 'the', 'reader', 'there', 'are', 'twists', 'and', 'turns', 'that', 'keep', 'one', 'guessing', 'until', 'the', 'last', 'page', 'these', 'are', 'books', 'you', 'won', 't', 'be', 'disappointed', 'with']\n"
     ]
    }
   ],
   "source": [
    "import re\n",
    "from nltk import word_tokenize\n",
    "non_alphanumeric = re.compile('[\\W]+')\n",
    "\n",
    "lower = reviews[0].text.lower()\n",
    "alphanumeric_review = non_alphanumeric.sub(' ', lower)\n",
    "\n",
    "words_without_stopwords = []\n",
    "words = word_tokenize(alphanumeric_review)\n",
    "print(words)"
   ]
  },
  {
   "cell_type": "code",
   "execution_count": 10,
   "metadata": {},
   "outputs": [
    {
     "name": "stdout",
     "output_type": "stream",
     "text": [
      "['bought', 'boxed', 'sets', 'books', '1', '5', 'really', 'great', 'series', 'start', 'book', '1', 'three', 'weeks', 'ago', 'finished', 'book', '5', 'sloane', 'monroe', 'great', 'character', 'able', 'follow', 'private', 'life', 'pi', 'life', 'gets', 'reader', 'involved', 'although', 'clues', 'may', 'right', 'front', 'reader', 'twists', 'turns', 'keep', 'one', 'guessing', 'last', 'page', 'books', 'disappointed']\n"
     ]
    }
   ],
   "source": [
    "from nltk.corpus import stopwords\n",
    "\n",
    "no_stopwords = []\n",
    "for word in words:\n",
    "    if word not in stopwords.words('english'):\n",
    "        no_stopwords.append(word)\n",
    "    else:\n",
    "        pass\n",
    "    \n",
    "print(no_stopwords)"
   ]
  },
  {
   "cell_type": "code",
   "execution_count": null,
   "metadata": {},
   "outputs": [],
   "source": []
  }
 ],
 "metadata": {
  "kernelspec": {
   "display_name": "Python 3",
   "language": "python",
   "name": "python3"
  },
  "language_info": {
   "codemirror_mode": {
    "name": "ipython",
    "version": 3
   },
   "file_extension": ".py",
   "mimetype": "text/x-python",
   "name": "python",
   "nbconvert_exporter": "python",
   "pygments_lexer": "ipython3",
   "version": "3.7.6"
  }
 },
 "nbformat": 4,
 "nbformat_minor": 4
}
